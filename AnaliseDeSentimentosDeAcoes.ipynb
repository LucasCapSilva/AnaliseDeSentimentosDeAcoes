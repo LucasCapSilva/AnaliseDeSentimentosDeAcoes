{
  "nbformat": 4,
  "nbformat_minor": 0,
  "metadata": {
    "colab": {
      "name": "AnaliseDeSentimentosDeAcoes.ipynb",
      "provenance": []
    },
    "kernelspec": {
      "name": "python3",
      "display_name": "Python 3"
    }
  },
  "cells": [
    {
      "cell_type": "code",
      "metadata": {
        "id": "7C6QXOO2BvyN",
        "outputId": "2b941b62-18be-433f-c4d9-e037e95883f7",
        "colab": {
          "base_uri": "https://localhost:8080/"
        }
      },
      "source": [
        "# Import libraries\n",
        "import pandas as pd\n",
        "from bs4 import BeautifulSoup\n",
        "import matplotlib.pyplot as plt\n",
        "from urllib.request import urlopen, Request\n",
        "import nltk\n",
        "nltk.download('vader_lexicon')\n",
        "from nltk.sentiment.vader import SentimentIntensityAnalyzer\n"
      ],
      "execution_count": 12,
      "outputs": [
        {
          "output_type": "stream",
          "text": [
            "[nltk_data] Downloading package vader_lexicon to /root/nltk_data...\n",
            "[nltk_data]   Package vader_lexicon is already up-to-date!\n"
          ],
          "name": "stdout"
        }
      ]
    },
    {
      "cell_type": "code",
      "metadata": {
        "id": "u4aKEp49CF3-"
      },
      "source": [
        "# Parameters \n",
        "n = 3 #the # of article headlines displayed per ticker\n",
        "tickers = ['PBR','MSFT']\n",
        "\n",
        "# Get Data\n",
        "finwiz_url = 'https://finviz.com/quote.ashx?t='\n",
        "news_tables = {}"
      ],
      "execution_count": 18,
      "outputs": []
    },
    {
      "cell_type": "code",
      "metadata": {
        "id": "O1e9r9gzCItW",
        "outputId": "6be0b581-7b9d-411e-eebc-17cdb6a6ed61",
        "colab": {
          "base_uri": "https://localhost:8080/"
        }
      },
      "source": [
        "for ticker in tickers:\n",
        "    url = finwiz_url + ticker\n",
        "    req = Request(url=url,headers={'user-agent': 'my-app/0.0.1'}) \n",
        "    resp = urlopen(req)    \n",
        "    html = BeautifulSoup(resp, features=\"lxml\")\n",
        "    news_table = html.find(id='news-table')\n",
        "    news_tables[ticker] = news_table\n",
        "\n",
        "try:\n",
        "    for ticker in tickers:\n",
        "        df = news_tables[ticker]\n",
        "        df_tr = df.findAll('tr')\n",
        "    \n",
        "        print ('\\n')\n",
        "        print ('Recent News Headlines for {}: '.format(ticker))\n",
        "        \n",
        "        for i, table_row in enumerate(df_tr):\n",
        "            a_text = table_row.a.text\n",
        "            td_text = table_row.td.text\n",
        "            td_text = td_text.strip()\n",
        "            print(a_text,'(',td_text,')')\n",
        "            if i == n-1:\n",
        "                break\n",
        "except KeyError:\n",
        "    pass\n",
        "\n",
        "# Iterate through the news\n",
        "parsed_news = []\n",
        "for file_name, news_table in news_tables.items():\n",
        "    for x in news_table.findAll('tr'):\n",
        "        text = x.a.get_text() \n",
        "        date_scrape = x.td.text.split()\n",
        "\n",
        "        if len(date_scrape) == 1:\n",
        "            time = date_scrape[0]\n",
        "            \n",
        "        else:\n",
        "            date = date_scrape[0]\n",
        "            time = date_scrape[1]\n",
        "\n",
        "        ticker = file_name.split('_')[0]\n",
        "        \n",
        "        parsed_news.append([ticker, date, time, text])"
      ],
      "execution_count": 19,
      "outputs": [
        {
          "output_type": "stream",
          "text": [
            "\n",
            "\n",
            "Recent News Headlines for PBR: \n",
            "Petroleo Brasileiro S.A.- Petrobras (PBR) Q3 2020 Earnings Call Transcript ( Oct-30-20 03:30AM )\n",
            "Petrobras (PBR) Postpones Parque das Baleias Project by a Year ( Oct-26-20 12:03PM )\n",
            "Petrobras Announces Final Results Of Its Cash Tender Offers ( Oct-22-20 04:01PM )\n",
            "\n",
            "\n",
            "Recent News Headlines for MSFT: \n",
            "4 Reasons Sony's Stock Could Still Head Higher ( Nov-01-20 10:00AM )\n",
            "Better Buy: Activision Blizzard vs. Microsoft ( 07:00AM )\n",
            "3 Top Renewable Energy Stocks to Buy No Matter Who Wins the Election ( 07:00AM )\n"
          ],
          "name": "stdout"
        }
      ]
    },
    {
      "cell_type": "code",
      "metadata": {
        "id": "s_k8jUjJCSlL"
      },
      "source": [
        "analyzer = SentimentIntensityAnalyzer()"
      ],
      "execution_count": 20,
      "outputs": []
    },
    {
      "cell_type": "code",
      "metadata": {
        "id": "SNvS1o_8C7kx",
        "outputId": "1dbff58d-2935-40ec-e76b-dccc4e4cd196",
        "colab": {
          "base_uri": "https://localhost:8080/"
        }
      },
      "source": [
        "columns = ['Ticker', 'Date', 'Time', 'Headline']\n",
        "news = pd.DataFrame(parsed_news, columns=columns)\n",
        "scores = news['Headline'].apply(analyzer.polarity_scores).tolist()\n",
        "\n",
        "df_scores = pd.DataFrame(scores)\n",
        "news = news.join(df_scores, rsuffix='_right')\n",
        "\n",
        "\n",
        "# View Data \n",
        "news['Date'] = pd.to_datetime(news.Date).dt.date\n",
        "\n",
        "unique_ticker = news['Ticker'].unique().tolist()\n",
        "news_dict = {name: news.loc[news['Ticker'] == name] for name in unique_ticker}\n",
        "\n",
        "values = []\n",
        "for ticker in tickers: \n",
        "    dataframe = news_dict[ticker]\n",
        "    dataframe = dataframe.set_index('Ticker')\n",
        "    dataframe = dataframe.drop(columns = ['Headline'])\n",
        "    print ('\\n')\n",
        "    print (dataframe.head())\n",
        "    \n",
        "    mean = round(dataframe['compound'].mean(), 2)\n",
        "    values.append(mean)\n",
        "    \n",
        "df = pd.DataFrame(list(zip(tickers, values)), columns =['Ticker', 'Mean Sentiment']) \n",
        "df = df.set_index('Ticker')\n",
        "df = df.sort_values('Mean Sentiment', ascending=False)\n",
        "print ('\\n')\n",
        "print (df)"
      ],
      "execution_count": 21,
      "outputs": [
        {
          "output_type": "stream",
          "text": [
            "\n",
            "\n",
            "              Date     Time    neg    neu    pos  compound\n",
            "Ticker                                                    \n",
            "PBR     2020-10-30  03:30AM  0.000  1.000  0.000    0.0000\n",
            "PBR     2020-10-26  12:03PM  0.208  0.792  0.000   -0.2732\n",
            "PBR     2020-10-22  04:01PM  0.000  1.000  0.000    0.0000\n",
            "PBR     2020-10-20  10:24PM  0.000  0.796  0.204    0.3182\n",
            "PBR     2020-10-20  10:24PM  0.000  0.796  0.204    0.3182\n",
            "\n",
            "\n",
            "              Date     Time    neg    neu    pos  compound\n",
            "Ticker                                                    \n",
            "MSFT    2020-11-01  10:00AM  0.000  1.000  0.000    0.0000\n",
            "MSFT    2020-11-01  07:00AM  0.000  0.633  0.367    0.4404\n",
            "MSFT    2020-11-01  07:00AM  0.123  0.391  0.486    0.6705\n",
            "MSFT    2020-10-31  12:27PM  0.240  0.760  0.000   -0.6249\n",
            "MSFT    2020-10-31  10:39AM  0.145  0.645  0.210    0.2023\n",
            "\n",
            "\n",
            "        Mean Sentiment\n",
            "Ticker                \n",
            "MSFT              0.12\n",
            "PBR               0.02\n"
          ],
          "name": "stdout"
        }
      ]
    }
  ]
}